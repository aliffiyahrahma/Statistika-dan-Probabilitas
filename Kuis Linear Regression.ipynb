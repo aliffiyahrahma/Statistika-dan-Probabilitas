{
 "cells": [
  {
   "cell_type": "code",
   "execution_count": 1,
   "id": "2fe43bf0-e681-46c3-8e1a-d588e42c5deb",
   "metadata": {},
   "outputs": [
    {
     "name": "stdout",
     "output_type": "stream",
     "text": [
      "Koefisien b: 20.0\n",
      "Koefisien a: 0.0\n",
      "Prediksi pendapatan untuk 35 pelanggan: 700.0\n"
     ]
    }
   ],
   "source": [
    "#soal nomor 1\n",
    "import numpy as np\n",
    "# Data jumlah pelanggan dan pendapatan\n",
    "X = np.array([10, 20, 30, 40, 50])\n",
    "Y = np.array([200, 400, 600, 800, 1000])\n",
    "\n",
    "# Menghitung n, ΣX, ΣY, ΣXY, ΣX^2\n",
    "n = len(X)\n",
    "sum_X = np.sum(X)\n",
    "sum_Y = np.sum(Y)\n",
    "sum_XY = np.sum(X * Y)\n",
    "sum_X2 = np.sum(X ** 2)\n",
    "\n",
    "# Menghitung b\n",
    "b = (n * sum_XY - sum_X * sum_Y) / (n * sum_X2 - sum_X ** 2)\n",
    "\n",
    "# Menghitung a\n",
    "a = (sum_Y - b * sum_X) / n\n",
    "\n",
    "print(f\"Koefisien b: {b}\")\n",
    "print(f\"Koefisien a: {a}\")\n",
    "\n",
    "# Prediksi untuk 35 pelanggan\n",
    "X_pred = 35\n",
    "Y_pred = a + b * X_pred\n",
    "\n",
    "print(f\"Prediksi pendapatan untuk {X_pred} pelanggan: {Y_pred}\")"
   ]
  },
  {
   "cell_type": "code",
   "execution_count": 2,
   "id": "c0eaa981-5ce0-44c7-820c-388fb440f4b3",
   "metadata": {},
   "outputs": [
    {
     "name": "stdout",
     "output_type": "stream",
     "text": [
      "Perubahan nilai ujian: [5, 5, 5]\n",
      "Rata-rata peningkatan nilai untuk setiap jam belajar: 5.0\n"
     ]
    }
   ],
   "source": [
    "#soal nomor 2\n",
    "# Data waktu belajar dan nilai ujian\n",
    "waktu_belajar = [1, 2, 3, 4]\n",
    "nilai_ujian = [60, 65, 70, 75]\n",
    "\n",
    "# Menghitung perubahan nilai ujian\n",
    "perubahan_nilai = []\n",
    "for i in range(1, len(nilai_ujian)):\n",
    "    perubahan = nilai_ujian[i] - nilai_ujian[i - 1]\n",
    "    perubahan_nilai.append(perubahan)\n",
    "\n",
    "# Menghitung rata-rata peningkatan nilai untuk setiap jam belajar\n",
    "rata_rata_peningkatan = sum(perubahan_nilai) / len(perubahan_nilai)\n",
    "\n",
    "print(f\"Perubahan nilai ujian: {perubahan_nilai}\")\n",
    "print(f\"Rata-rata peningkatan nilai untuk setiap jam belajar: {rata_rata_peningkatan}\")"
   ]
  },
  {
   "cell_type": "code",
   "execution_count": 3,
   "id": "0abe974c-57a2-494d-9dd9-ccaecb88feea",
   "metadata": {},
   "outputs": [
    {
     "name": "stdout",
     "output_type": "stream",
     "text": [
      "Koefisien b (gradien): -15.0\n",
      "Koefisien a (intersep): 165.0\n",
      "Persamaan regresi: Y = 165.0 - 15.0X\n",
      "Prediksi harga jual untuk kendaraan usia 4 tahun: 105.0 juta\n"
     ]
    }
   ],
   "source": [
    "#soal nomor 3\n",
    "# Data\n",
    "usia = [1, 3, 5, 7, 9]\n",
    "harga_jual = [150, 120, 90, 60, 30]\n",
    "\n",
    "# Menghitung jumlah yang diperlukan\n",
    "n = len(usia)\n",
    "sum_X = sum(usia)\n",
    "sum_Y = sum(harga_jual)\n",
    "sum_X2 = sum(x ** 2 for x in usia)\n",
    "sum_XY = sum(x * y for x, y in zip(usia, harga_jual))\n",
    "\n",
    "# Menghitung b (gradien)\n",
    "b = (n * sum_XY - sum_X * sum_Y) / (n * sum_X2 - sum_X ** 2)\n",
    "\n",
    "# Menghitung a (intersep)\n",
    "a = (sum_Y - b * sum_X) / n\n",
    "\n",
    "# Menampilkan hasil\n",
    "print(f\"Koefisien b (gradien): {b}\")\n",
    "print(f\"Koefisien a (intersep): {a}\")\n",
    "\n",
    "# Persamaan regresi\n",
    "print(f\"Persamaan regresi: Y = {a} - {abs(b)}X\")\n",
    "\n",
    "# Prediksi harga jual untuk usia 4 tahun\n",
    "usia_prediksi = 4\n",
    "harga_prediksi = a + b * usia_prediksi\n",
    "print(f\"Prediksi harga jual untuk kendaraan usia {usia_prediksi} tahun: {harga_prediksi} juta\")\n"
   ]
  },
  {
   "cell_type": "code",
   "execution_count": 4,
   "id": "b9f930cb-a5c2-4932-82d9-d35537079638",
   "metadata": {},
   "outputs": [
    {
     "name": "stdout",
     "output_type": "stream",
     "text": [
      "Koefisien b (gradien): 5000.0\n",
      "Koefisien a (intersep): 0.0\n",
      "Persamaan regresi: Y = 5000.0X + 0.0\n",
      "Prediksi biaya pulsa untuk 18 jam internet: 90000.0 rupiah\n"
     ]
    }
   ],
   "source": [
    "#soal nomor 4\n",
    "# Data\n",
    "jam_internet = [5, 10, 15, 20]\n",
    "biaya_pulsa = [25000, 50000, 75000, 100000]\n",
    "\n",
    "# Menghitung jumlah yang diperlukan\n",
    "n = len(jam_internet)\n",
    "sum_X = sum(jam_internet)\n",
    "sum_Y = sum(biaya_pulsa)\n",
    "sum_X2 = sum(x ** 2 for x in jam_internet)\n",
    "sum_XY = sum(x * y for x, y in zip(jam_internet, biaya_pulsa))\n",
    "\n",
    "# Menghitung b (gradien)\n",
    "b = (n * sum_XY - sum_X * sum_Y) / (n * sum_X2 - sum_X ** 2)\n",
    "\n",
    "# Menghitung a (intersep)\n",
    "a = (sum_Y - b * sum_X) / n\n",
    "\n",
    "# Menampilkan hasil\n",
    "print(f\"Koefisien b (gradien): {b}\")\n",
    "print(f\"Koefisien a (intersep): {a}\")\n",
    "\n",
    "# Persamaan regresi\n",
    "print(f\"Persamaan regresi: Y = {b}X + {a}\")\n",
    "\n",
    "# Prediksi biaya pulsa untuk 18 jam internet\n",
    "jam_prediksi = 18\n",
    "biaya_prediksi = b * jam_prediksi + a\n",
    "print(f\"Prediksi biaya pulsa untuk {jam_prediksi} jam internet: {biaya_prediksi} rupiah\")"
   ]
  },
  {
   "cell_type": "code",
   "execution_count": 5,
   "id": "4f819339-a9e8-4cf7-9709-77aa6b597d6a",
   "metadata": {},
   "outputs": [
    {
     "name": "stdout",
     "output_type": "stream",
     "text": [
      "Nilai a: -160\n",
      "Prediksi Y untuk X1 = 75 dan X2 = 4: 760 ribu\n"
     ]
    }
   ],
   "source": [
    "#soal nomor 5\n",
    "# Koefisien\n",
    "b1 = 8   # kontribusi per pengunjung\n",
    "b2 = 80  # kontribusi per menu baru\n",
    "\n",
    "# Menghitung a\n",
    "# Menggunakan data yang diberikan\n",
    "Y = 400\n",
    "X1 = 50\n",
    "X2 = 2\n",
    "\n",
    "# Persamaan: Y = a + b1 * X1 + b2 * X2\n",
    "# 400 = a + 8 * 50 + 80 * 2\n",
    "# 400 = a + 400 + 160\n",
    "# a = 400 - 560\n",
    "a = 400 - (8 * X1 + 80 * X2)\n",
    "\n",
    "# Menampilkan nilai a\n",
    "print(f\"Nilai a: {a}\")\n",
    "\n",
    "# Persamaan regresi\n",
    "def persamaan_regresi(x1, x2):\n",
    "    return a + (b1 * x1) + (b2 * x2)\n",
    "\n",
    "# Prediksi untuk X1 = 75 dan X2 = 4\n",
    "X1_prediksi = 75\n",
    "X2_prediksi = 4\n",
    "Y_prediksi = persamaan_regresi(X1_prediksi, X2_prediksi)\n",
    "\n",
    "# Menampilkan hasil prediksi\n",
    "print(f\"Prediksi Y untuk X1 = {X1_prediksi} dan X2 = {X2_prediksi}: {Y_prediksi} ribu\")"
   ]
  },
  {
   "cell_type": "code",
   "execution_count": null,
   "id": "85b1483f-09a2-43dd-8ef1-e698403b440f",
   "metadata": {},
   "outputs": [],
   "source": []
  }
 ],
 "metadata": {
  "kernelspec": {
   "display_name": "Python 3 (ipykernel)",
   "language": "python",
   "name": "python3"
  },
  "language_info": {
   "codemirror_mode": {
    "name": "ipython",
    "version": 3
   },
   "file_extension": ".py",
   "mimetype": "text/x-python",
   "name": "python",
   "nbconvert_exporter": "python",
   "pygments_lexer": "ipython3",
   "version": "3.12.7"
  }
 },
 "nbformat": 4,
 "nbformat_minor": 5
}
